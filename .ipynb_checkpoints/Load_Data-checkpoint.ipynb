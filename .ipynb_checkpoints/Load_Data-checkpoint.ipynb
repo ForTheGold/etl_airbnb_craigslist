{
 "cells": [
  {
   "cell_type": "code",
   "execution_count": null,
   "metadata": {},
   "outputs": [],
   "source": [
    "from pandas.io import sql\n",
    "import MySQLdb\n",
    "import sqlalchemy\n",
    "from sqlalchemy import create_engine\n",
    "import pymysql"
   ]
  },
  {
   "cell_type": "code",
   "execution_count": null,
   "metadata": {},
   "outputs": [],
   "source": [
    "# Export data to SQL database\n",
    "engine = sqlalchemy.create_engine('mysql+pymysql://root:@localhost:/projects')\n",
    "\n",
    "housing_df.to_sql(name='airbnb_craigs', con=engine, index=False, if_exists='append')"
   ]
  },
  {
   "cell_type": "code",
   "execution_count": null,
   "metadata": {},
   "outputs": [],
   "source": [
    "# Export data to MongoDB\n",
    "import pymongo\n",
    "\n",
    "# Setup connection to mongodb\n",
    "conn = \"mongodb://localhost:\"\n",
    "client = pymongo.MongoClient(conn)\n",
    "\n",
    "db = client.DATABASE_NAME_HERE\n",
    "collection = db.COLLECTION_NAME_HERE\n",
    "\n",
    "# Create a new index that has a letter in front- that is your error!! then reset index\n",
    "collection.insert_one(housing_dict)"
   ]
  },
  {
   "cell_type": "code",
   "execution_count": null,
   "metadata": {},
   "outputs": [],
   "source": [
    "housing_df.to_excel(\"AirBnB_Craigs_Data.xlsx\", index=False)"
   ]
  }
 ],
 "metadata": {
  "kernelspec": {
   "display_name": "Python 3",
   "language": "python",
   "name": "python3"
  },
  "language_info": {
   "codemirror_mode": {
    "name": "ipython",
    "version": 3
   },
   "file_extension": ".py",
   "mimetype": "text/x-python",
   "name": "python",
   "nbconvert_exporter": "python",
   "pygments_lexer": "ipython3",
   "version": "3.7.1"
  }
 },
 "nbformat": 4,
 "nbformat_minor": 2
}
